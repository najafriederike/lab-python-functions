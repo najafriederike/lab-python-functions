{
 "cells": [
  {
   "cell_type": "markdown",
   "id": "25d7736c-ba17-4aff-b6bb-66eba20fbf4e",
   "metadata": {},
   "source": [
    "# Lab | Functions"
   ]
  },
  {
   "cell_type": "markdown",
   "id": "0c581062-8967-4d93-b06e-62833222f930",
   "metadata": {
    "tags": []
   },
   "source": [
    "## Exercise: Managing Customer Orders with Functions\n",
    "\n",
    "In the previous exercise, you improved the code for managing customer orders by using loops and flow control. Now, let's take it a step further and refactor the code by introducing functions.\n",
    "\n",
    "Follow the steps below to complete the exercise:\n",
    "\n",
    "1. Define a function named `initialize_inventory` that takes `products` as a parameter. Inside the function, implement the code for initializing the inventory dictionary using a loop and user input.\n",
    "\n",
    "2. Define a function named `get_customer_orders` that takes no parameters. Inside the function, implement the code for prompting the user to enter the product names using a loop. The function should return the `customer_orders` set.\n",
    "\n",
    "3. Define a function named `update_inventory` that takes `customer_orders` and `inventory` as parameters. Inside the function, implement the code for updating the inventory dictionary based on the customer orders.\n",
    "\n",
    "4. Define a function named `calculate_order_statistics` that takes `customer_orders` and `products` as parameters. Inside the function, implement the code for calculating the order statistics (total products ordered, and percentage of unique products ordered). The function should return these values.\n",
    "\n",
    "5. Define a function named `print_order_statistics` that takes `order_statistics` as a parameter. Inside the function, implement the code for printing the order statistics.\n",
    "\n",
    "6. Define a function named `print_updated_inventory` that takes `inventory` as a parameter. Inside the function, implement the code for printing the updated inventory.\n",
    "\n",
    "7. Call the functions in the appropriate sequence to execute the program and manage customer orders.\n",
    "\n",
    "Hints for functions:\n",
    "\n",
    "- Consider the input parameters required for each function and their return values.\n",
    "- Utilize function parameters and return values to transfer data between functions.\n",
    "- Test your functions individually to ensure they work correctly.\n",
    "\n",
    "\n"
   ]
  },
  {
   "cell_type": "markdown",
   "id": "6b820826-06cf-4bf3-83f2-d7c0783307b2",
   "metadata": {},
   "source": [
    "1. Define a function named `initialize_inventory` that takes `products` as a parameter. Inside the function, implement the code for initializing the inventory dictionary using a loop and user input.\n"
   ]
  },
  {
   "cell_type": "code",
   "execution_count": 26,
   "id": "c6b215a4-c84e-4e30-8162-b00864cb7ed1",
   "metadata": {},
   "outputs": [
    {
     "name": "stdin",
     "output_type": "stream",
     "text": [
      "Quantity of book: 1\n",
      "Quantity of magazine: 3\n",
      "Quantity of sudoku: 5\n",
      "Quantity of newspaper: 7\n",
      "Quantity of notebook: 9\n"
     ]
    }
   ],
   "source": [
    "#1 :)\n",
    "def initialize_inventory(products):\n",
    "    inventory = {}\n",
    "\n",
    "    for product in products:\n",
    "        inventory[product] = int(input(f\"Quantity of {product}:\"))\n",
    "    return inventory\n",
    "\n",
    "products = [\"book\", \"magazine\", \"sudoku\", \"newspaper\", \"notebook\"]\n",
    "inventory = initialize_inventory(products)"
   ]
  },
  {
   "cell_type": "code",
   "execution_count": 169,
   "id": "f2a5e2f0-a070-424a-9b60-e9f08ccc8546",
   "metadata": {},
   "outputs": [
    {
     "name": "stdin",
     "output_type": "stream",
     "text": [
      "What would you like to order from the following list: book, magazine, sudoku, newspaper, notebook? 2\n",
      "Do you want to order anything else? Type yes or no. 4\n"
     ]
    },
    {
     "name": "stdout",
     "output_type": "stream",
     "text": [
      "Thanks for your order!\n"
     ]
    }
   ],
   "source": [
    "#1 - TEST \n",
    "def initialize_inventory():\n",
    "    inventory = {} # creating an empty inventory\n",
    "\n",
    "    product = input(\"What would you like to order from the following list: book, magazine, sudoku, newspaper, notebook?\")\n",
    "    answer = 'yes'\n",
    "    \n",
    "    while answer == 'yes':\n",
    "        answer = input(\"Do you want to order anything else? Type yes or no.\")\n",
    "        if answer == 'yes':\n",
    "            product = input(\"What would you like to order?\")\n",
    "        else:\n",
    "            print(\"Thanks for your order!\")\n",
    "            break\n",
    "    return inventory\n",
    "\n",
    "initialize_inventory()"
   ]
  },
  {
   "cell_type": "markdown",
   "id": "554094ff-1ef1-449e-ba88-8d20df4a176c",
   "metadata": {},
   "source": [
    "2. Define a function named `get_customer_orders` that takes no parameters. Inside the function, implement the code for prompting the user to enter the product names using a loop. The function should return the `customer_orders` set.\n"
   ]
  },
  {
   "cell_type": "code",
   "execution_count": 10,
   "id": "18add0bb-2c62-49c1-b952-db583bf237a4",
   "metadata": {},
   "outputs": [
    {
     "name": "stdin",
     "output_type": "stream",
     "text": [
      "What would you like to order from the following list: book, magazine, sudoku, newspaper, notebook? book\n",
      "Do you want to order anything else? Type yes or no. magazine\n"
     ]
    },
    {
     "name": "stdout",
     "output_type": "stream",
     "text": [
      "Thanks for your order!\n"
     ]
    },
    {
     "data": {
      "text/plain": [
       "{'book'}"
      ]
     },
     "execution_count": 10,
     "metadata": {},
     "output_type": "execute_result"
    }
   ],
   "source": [
    "#2 \n",
    "def get_customer_orders():\n",
    "    customer_orders = set()\n",
    "\n",
    "    customer_orders.add(input(\"What would you like to order from the following list: book, magazine, sudoku, newspaper, notebook?\"))\n",
    "    answer = 'yes'\n",
    "    \n",
    "    while answer == 'yes':\n",
    "        answer = input(\"Do you want to order anything else? Type yes or no.\")\n",
    "        if answer == 'yes':\n",
    "            customer_orders.add(str(input(\"What would you like to order?\")))\n",
    "        else:\n",
    "            print(\"Thanks for your order!\")\n",
    "            break\n",
    "    return customer_orders\n",
    "\n",
    "customer_orders = get_customer_orders()\n",
    "customer_orders # sets don't allow for duplicates...\n",
    "# type(customer_orders)"
   ]
  },
  {
   "cell_type": "markdown",
   "id": "a0c7a24c-7683-4d9c-8431-271d9d69a8b2",
   "metadata": {},
   "source": [
    "3.Define a function named `update_inventory` that takes `customer_orders` and `inventory` as parameters. Inside the function, implement the code for updating the inventory dictionary based on the customer orders."
   ]
  },
  {
   "cell_type": "code",
   "execution_count": 111,
   "id": "a7e8dd7b-f354-4b83-a65c-362fb5002c9f",
   "metadata": {},
   "outputs": [
    {
     "data": {
      "text/plain": [
       "{'book': 0, 'magazine': 3, 'sudoku': 5, 'newspaper': 7, 'notebook': 9}"
      ]
     },
     "execution_count": 111,
     "metadata": {},
     "output_type": "execute_result"
    }
   ],
   "source": [
    "#3\n",
    "def update_inventory(customer_orders, inventory):\n",
    "    for item in customer_orders:\n",
    "        if item in inventory:\n",
    "            inventory[item] -= 1\n",
    "    return inventory \n",
    "\n",
    "updated_inventory = update_inventory(customer_orders, inventory) \n",
    "updated_inventory"
   ]
  },
  {
   "cell_type": "markdown",
   "id": "ed6e4f73-864d-438b-9e9a-0b1802c47d25",
   "metadata": {},
   "source": [
    "4. Define a function named `calculate_order_statistics` that takes `customer_orders` and `products` as parameters. Inside the function, implement the code for calculating the order statistics (total products ordered, and percentage of unique products ordered). The function should return these values.\n"
   ]
  },
  {
   "cell_type": "code",
   "execution_count": 58,
   "id": "bff512a3-0391-4cb8-8e1e-a1bc67f11a01",
   "metadata": {},
   "outputs": [
    {
     "data": {
      "text/plain": [
       "(1, 0.04)"
      ]
     },
     "execution_count": 58,
     "metadata": {},
     "output_type": "execute_result"
    }
   ],
   "source": [
    "def calculate_order_statistics(customer_orders, products):\n",
    "    total_products = len(customer_orders) # works :)\n",
    "    unique_products = len(list(set(customer_orders))) / sum(inventory.values())\n",
    "    \n",
    "    return total_products, unique_products\n",
    "    \n",
    "order_statistics = calculate_order_statistics(customer_orders, products)\n",
    "order_statistics"
   ]
  },
  {
   "cell_type": "markdown",
   "id": "9a5cda56-8995-4bf1-9070-49d9ea813bcd",
   "metadata": {},
   "source": [
    "5. Define a function named print_order_statistics that takes order_statistics as a parameter. Inside the function, implement the code for printing the order statistics."
   ]
  },
  {
   "cell_type": "code",
   "execution_count": 130,
   "id": "8c25743f-7f2d-476e-9129-3ea7ddce7ab1",
   "metadata": {},
   "outputs": [
    {
     "name": "stdout",
     "output_type": "stream",
     "text": [
      "Order statistics:\n",
      "The number of total products ordered is 4.\n",
      "The percentage of unique products ordered is 19.05 %.\n"
     ]
    }
   ],
   "source": [
    "def print_order_statistics(order_statistics):\n",
    "    total_products = order_statistics[0]\n",
    "    unique_products = round(order_statistics[1]*100, 2)\n",
    "    print(\"Order statistics:\")\n",
    "    print(f\"The number of total products ordered is {total_products}.\")\n",
    "    print(f\"The percentage of unique products ordered is {unique_products} %.\")\n",
    "\n",
    "print_order_statistics(order_statistics)"
   ]
  },
  {
   "cell_type": "markdown",
   "id": "d75b3573-2f00-4487-96e8-ab47392e59b3",
   "metadata": {},
   "source": [
    "6. Define a function named `print_updated_inventory` that takes `inventory` as a parameter. Inside the function, implement the code for printing the updated inventory.\n",
    "\n"
   ]
  },
  {
   "cell_type": "code",
   "execution_count": 125,
   "id": "2af896ed-e689-4d86-b90c-5b5b5873ceb8",
   "metadata": {},
   "outputs": [
    {
     "name": "stdout",
     "output_type": "stream",
     "text": [
      "Quantity left of books: 0\n",
      "Quantity left of magazines: 3\n",
      "Quantity left of sudokus: 5\n",
      "Quantity left of newspapers: 7\n",
      "Quantity left of notebooks: 9\n"
     ]
    }
   ],
   "source": [
    "#6 \n",
    "def print_updated_inventory(inventory): # why taking inventory as a parameter here and not updated_inventory???\n",
    "    for item in updated_inventory:\n",
    "        print(f\"Quantity left of {item}s: {updated_inventory[item]}\")\n",
    "        \n",
    "print_updated_inventory(inventory)"
   ]
  },
  {
   "cell_type": "markdown",
   "id": "fc39e2ac-9254-482d-bd21-416b6eec1c4a",
   "metadata": {},
   "source": [
    "7. Call the functions in the appropriate sequence to execute the program and manage customer orders."
   ]
  },
  {
   "cell_type": "code",
   "execution_count": null,
   "id": "e2818e68-3206-4171-a769-0cb829303a3d",
   "metadata": {},
   "outputs": [],
   "source": [
    "products = [\"book\", \"magazine\", \"sudoku\", \"newspaper\", \"notebook\"]\n",
    "\n",
    "inventory = initialize_inventory(products)\n",
    "\n",
    "customer_orders = get_customer_orders()\n",
    "\n",
    "updated_inventory = update_inventory(customer_orders, inventory) # function doesn't check if product is available\n",
    "\n",
    "order_statistics = calculate_order_statistics(customer_orders, products)\n",
    "\n",
    "print_order_statistics(order_statistics)\n",
    "\n",
    "print_updated_inventory(inventory)"
   ]
  },
  {
   "cell_type": "code",
   "execution_count": null,
   "id": "a7639859-bdec-4d72-ac46-dae200f8601f",
   "metadata": {},
   "outputs": [],
   "source": []
  }
 ],
 "metadata": {
  "kernelspec": {
   "display_name": "Python 3 (ipykernel)",
   "language": "python",
   "name": "python3"
  },
  "language_info": {
   "codemirror_mode": {
    "name": "ipython",
    "version": 3
   },
   "file_extension": ".py",
   "mimetype": "text/x-python",
   "name": "python",
   "nbconvert_exporter": "python",
   "pygments_lexer": "ipython3",
   "version": "3.12.4"
  }
 },
 "nbformat": 4,
 "nbformat_minor": 5
}
